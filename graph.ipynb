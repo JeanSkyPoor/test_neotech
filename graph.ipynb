{
 "cells": [
  {
   "cell_type": "code",
   "execution_count": 1,
   "metadata": {},
   "outputs": [],
   "source": [
    "import pandas as pd\n",
    "import plotly.express as px"
   ]
  },
  {
   "cell_type": "markdown",
   "metadata": {},
   "source": [
    "# FIRST"
   ]
  },
  {
   "cell_type": "code",
   "execution_count": 2,
   "metadata": {},
   "outputs": [],
   "source": [
    "df_first_columns = {\n",
    "    \"country\": \"category\",\n",
    "    \"date\": str,\n",
    "    \"new_registration_count\": float\n",
    "}"
   ]
  },
  {
   "cell_type": "code",
   "execution_count": 3,
   "metadata": {},
   "outputs": [],
   "source": [
    "def read_first() -> pd.DataFrame:\n",
    "    df_first = pd.read_csv(\n",
    "        \"registration_dynamic_by_country.csv\",\n",
    "        usecols = df_first_columns.keys(),\n",
    "        dtype = df_first_columns,\n",
    "        sep = \",\",\n",
    "        parse_dates = [\n",
    "            \"date\"\n",
    "        ]\n",
    "    )\n",
    "\n",
    "    return df_first\n"
   ]
  },
  {
   "cell_type": "code",
   "execution_count": 4,
   "metadata": {},
   "outputs": [],
   "source": [
    "df_first = read_first()"
   ]
  },
  {
   "cell_type": "code",
   "execution_count": 8,
   "metadata": {},
   "outputs": [
    {
     "data": {
      "text/html": [
       "<div>\n",
       "<style scoped>\n",
       "    .dataframe tbody tr th:only-of-type {\n",
       "        vertical-align: middle;\n",
       "    }\n",
       "\n",
       "    .dataframe tbody tr th {\n",
       "        vertical-align: top;\n",
       "    }\n",
       "\n",
       "    .dataframe thead th {\n",
       "        text-align: right;\n",
       "    }\n",
       "</style>\n",
       "<table border=\"1\" class=\"dataframe\">\n",
       "  <thead>\n",
       "    <tr style=\"text-align: right;\">\n",
       "      <th></th>\n",
       "      <th>country</th>\n",
       "      <th>date</th>\n",
       "      <th>new_registration_count</th>\n",
       "    </tr>\n",
       "  </thead>\n",
       "  <tbody>\n",
       "    <tr>\n",
       "      <th>0</th>\n",
       "      <td>KZ</td>\n",
       "      <td>2023-08-01</td>\n",
       "      <td>229.0</td>\n",
       "    </tr>\n",
       "    <tr>\n",
       "      <th>1</th>\n",
       "      <td>KZ</td>\n",
       "      <td>2023-08-02</td>\n",
       "      <td>192.0</td>\n",
       "    </tr>\n",
       "    <tr>\n",
       "      <th>2</th>\n",
       "      <td>KZ</td>\n",
       "      <td>2023-08-03</td>\n",
       "      <td>277.0</td>\n",
       "    </tr>\n",
       "    <tr>\n",
       "      <th>3</th>\n",
       "      <td>KZ</td>\n",
       "      <td>2023-08-04</td>\n",
       "      <td>165.0</td>\n",
       "    </tr>\n",
       "    <tr>\n",
       "      <th>4</th>\n",
       "      <td>KZ</td>\n",
       "      <td>2023-08-05</td>\n",
       "      <td>212.0</td>\n",
       "    </tr>\n",
       "  </tbody>\n",
       "</table>\n",
       "</div>"
      ],
      "text/plain": [
       "  country       date  new_registration_count\n",
       "0      KZ 2023-08-01                   229.0\n",
       "1      KZ 2023-08-02                   192.0\n",
       "2      KZ 2023-08-03                   277.0\n",
       "3      KZ 2023-08-04                   165.0\n",
       "4      KZ 2023-08-05                   212.0"
      ]
     },
     "execution_count": 8,
     "metadata": {},
     "output_type": "execute_result"
    }
   ],
   "source": [
    "df_first.head()"
   ]
  },
  {
   "cell_type": "code",
   "execution_count": 15,
   "metadata": {},
   "outputs": [
    {
     "name": "stderr",
     "output_type": "stream",
     "text": [
      "c:\\work_folder\\test_neotech\\env\\Lib\\site-packages\\plotly\\express\\_core.py:2044: FutureWarning:\n",
      "\n",
      "The default of observed=False is deprecated and will be changed to True in a future version of pandas. Pass observed=False to retain current behavior or observed=True to adopt the future default and silence this warning.\n",
      "\n"
     ]
    },
    {
     "data": {
      "application/vnd.plotly.v1+json": {
       "config": {
        "plotlyServerURL": "https://plot.ly"
       },
       "data": [
        {
         "hovertemplate": "country=KZ<br>date=%{x}<br>new_registration_count=%{y}<extra></extra>",
         "legendgroup": "KZ",
         "line": {
          "color": "#636efa",
          "dash": "solid"
         },
         "marker": {
          "symbol": "circle"
         },
         "mode": "markers+lines",
         "name": "KZ",
         "orientation": "v",
         "showlegend": true,
         "type": "scatter",
         "x": [
          "2023-08-01T00:00:00",
          "2023-08-02T00:00:00",
          "2023-08-03T00:00:00",
          "2023-08-04T00:00:00",
          "2023-08-05T00:00:00",
          "2023-08-06T00:00:00",
          "2023-08-07T00:00:00",
          "2023-08-08T00:00:00",
          "2023-08-09T00:00:00",
          "2023-08-10T00:00:00",
          "2023-08-11T00:00:00",
          "2023-08-12T00:00:00",
          "2023-08-13T00:00:00",
          "2023-08-14T00:00:00",
          "2023-08-15T00:00:00",
          "2023-08-16T00:00:00",
          "2023-08-17T00:00:00",
          "2023-08-18T00:00:00",
          "2023-08-19T00:00:00",
          "2023-08-20T00:00:00",
          "2023-08-21T00:00:00",
          "2023-08-22T00:00:00",
          "2023-08-23T00:00:00",
          "2023-08-24T00:00:00",
          "2023-08-25T00:00:00",
          "2023-08-26T00:00:00",
          "2023-08-27T00:00:00",
          "2023-08-28T00:00:00",
          "2023-08-29T00:00:00",
          "2023-08-30T00:00:00",
          "2023-08-31T00:00:00"
         ],
         "xaxis": "x",
         "y": [
          229,
          192,
          277,
          165,
          212,
          139,
          240,
          235,
          199,
          119,
          184,
          227,
          234,
          232,
          222,
          279,
          191,
          151,
          187,
          241,
          228,
          230,
          170,
          228,
          243,
          545,
          477,
          252,
          326,
          419,
          263
         ],
         "yaxis": "y"
        },
        {
         "hovertemplate": "country=PT<br>date=%{x}<br>new_registration_count=%{y}<extra></extra>",
         "legendgroup": "PT",
         "line": {
          "color": "#EF553B",
          "dash": "solid"
         },
         "marker": {
          "symbol": "diamond"
         },
         "mode": "markers+lines",
         "name": "PT",
         "orientation": "v",
         "showlegend": true,
         "type": "scatter",
         "x": [
          "2023-08-01T00:00:00",
          "2023-08-02T00:00:00",
          "2023-08-03T00:00:00",
          "2023-08-04T00:00:00",
          "2023-08-05T00:00:00",
          "2023-08-06T00:00:00",
          "2023-08-07T00:00:00",
          "2023-08-08T00:00:00",
          "2023-08-09T00:00:00",
          "2023-08-10T00:00:00",
          "2023-08-11T00:00:00",
          "2023-08-12T00:00:00",
          "2023-08-13T00:00:00",
          "2023-08-14T00:00:00",
          "2023-08-15T00:00:00",
          "2023-08-16T00:00:00",
          "2023-08-17T00:00:00",
          "2023-08-18T00:00:00",
          "2023-08-19T00:00:00",
          "2023-08-20T00:00:00",
          "2023-08-21T00:00:00",
          "2023-08-22T00:00:00",
          "2023-08-23T00:00:00",
          "2023-08-24T00:00:00",
          "2023-08-25T00:00:00",
          "2023-08-26T00:00:00",
          "2023-08-27T00:00:00",
          "2023-08-28T00:00:00",
          "2023-08-29T00:00:00",
          "2023-08-30T00:00:00",
          "2023-08-31T00:00:00"
         ],
         "xaxis": "x",
         "y": [
          817,
          1222,
          1118,
          1272,
          1197,
          1035,
          1138,
          1474,
          1441,
          1341,
          1264,
          1349,
          1406,
          1280,
          1116,
          1185,
          1108,
          884,
          1055,
          1101,
          936,
          1122,
          1249,
          1180,
          1199,
          1056,
          1223,
          1047,
          1181,
          1411,
          1178
         ],
         "yaxis": "y"
        },
        {
         "hovertemplate": "country=FR<br>date=%{x}<br>new_registration_count=%{y}<extra></extra>",
         "legendgroup": "FR",
         "line": {
          "color": "#00cc96",
          "dash": "solid"
         },
         "marker": {
          "symbol": "square"
         },
         "mode": "markers+lines",
         "name": "FR",
         "orientation": "v",
         "showlegend": true,
         "type": "scatter",
         "x": [
          "2023-08-01T00:00:00",
          "2023-08-02T00:00:00",
          "2023-08-03T00:00:00",
          "2023-08-04T00:00:00",
          "2023-08-05T00:00:00",
          "2023-08-06T00:00:00",
          "2023-08-07T00:00:00",
          "2023-08-08T00:00:00",
          "2023-08-09T00:00:00",
          "2023-08-10T00:00:00",
          "2023-08-11T00:00:00",
          "2023-08-12T00:00:00",
          "2023-08-13T00:00:00",
          "2023-08-14T00:00:00",
          "2023-08-15T00:00:00",
          "2023-08-16T00:00:00",
          "2023-08-17T00:00:00",
          "2023-08-18T00:00:00",
          "2023-08-19T00:00:00",
          "2023-08-20T00:00:00",
          "2023-08-21T00:00:00",
          "2023-08-22T00:00:00",
          "2023-08-23T00:00:00",
          "2023-08-24T00:00:00",
          "2023-08-25T00:00:00",
          "2023-08-26T00:00:00",
          "2023-08-27T00:00:00",
          "2023-08-28T00:00:00",
          "2023-08-29T00:00:00",
          "2023-08-30T00:00:00",
          "2023-08-31T00:00:00"
         ],
         "xaxis": "x",
         "y": [
          606,
          681,
          1475,
          11,
          71,
          247,
          378,
          1013,
          1633,
          1841,
          2457,
          1874,
          1641,
          1734,
          1554,
          1259,
          938,
          758,
          777,
          728,
          587,
          496,
          365,
          420,
          372,
          521,
          447,
          452,
          469,
          610,
          676
         ],
         "yaxis": "y"
        },
        {
         "hovertemplate": "country=BR<br>date=%{x}<br>new_registration_count=%{y}<extra></extra>",
         "legendgroup": "BR",
         "line": {
          "color": "#ab63fa",
          "dash": "solid"
         },
         "marker": {
          "symbol": "x"
         },
         "mode": "markers+lines",
         "name": "BR",
         "orientation": "v",
         "showlegend": true,
         "type": "scatter",
         "x": [
          "2023-08-01T00:00:00",
          "2023-08-02T00:00:00",
          "2023-08-03T00:00:00",
          "2023-08-04T00:00:00",
          "2023-08-05T00:00:00",
          "2023-08-06T00:00:00",
          "2023-08-07T00:00:00",
          "2023-08-08T00:00:00",
          "2023-08-09T00:00:00",
          "2023-08-10T00:00:00",
          "2023-08-11T00:00:00",
          "2023-08-12T00:00:00",
          "2023-08-13T00:00:00",
          "2023-08-14T00:00:00",
          "2023-08-15T00:00:00",
          "2023-08-16T00:00:00",
          "2023-08-17T00:00:00",
          "2023-08-18T00:00:00",
          "2023-08-19T00:00:00",
          "2023-08-20T00:00:00",
          "2023-08-21T00:00:00",
          "2023-08-22T00:00:00",
          "2023-08-23T00:00:00",
          "2023-08-24T00:00:00",
          "2023-08-25T00:00:00",
          "2023-08-26T00:00:00",
          "2023-08-27T00:00:00",
          "2023-08-28T00:00:00",
          "2023-08-29T00:00:00",
          "2023-08-30T00:00:00",
          "2023-08-31T00:00:00"
         ],
         "xaxis": "x",
         "y": [
          4491,
          4964,
          4324,
          4914,
          4947,
          5571,
          3906,
          4430,
          2865,
          1538,
          1800,
          1844,
          1708,
          987,
          1352,
          1533,
          1743,
          1461,
          1532,
          1368,
          1529,
          2224,
          2290,
          1117,
          1193,
          1446,
          1194,
          1083,
          1174,
          1265,
          1289
         ],
         "yaxis": "y"
        },
        {
         "hovertemplate": "country=GR<br>date=%{x}<br>new_registration_count=%{y}<extra></extra>",
         "legendgroup": "GR",
         "line": {
          "color": "#FFA15A",
          "dash": "solid"
         },
         "marker": {
          "symbol": "cross"
         },
         "mode": "markers+lines",
         "name": "GR",
         "orientation": "v",
         "showlegend": true,
         "type": "scatter",
         "x": [
          "2023-08-01T00:00:00",
          "2023-08-02T00:00:00",
          "2023-08-03T00:00:00",
          "2023-08-04T00:00:00",
          "2023-08-05T00:00:00",
          "2023-08-06T00:00:00",
          "2023-08-07T00:00:00",
          "2023-08-08T00:00:00",
          "2023-08-09T00:00:00",
          "2023-08-10T00:00:00",
          "2023-08-11T00:00:00",
          "2023-08-12T00:00:00",
          "2023-08-13T00:00:00",
          "2023-08-14T00:00:00",
          "2023-08-15T00:00:00",
          "2023-08-16T00:00:00",
          "2023-08-17T00:00:00",
          "2023-08-18T00:00:00",
          "2023-08-19T00:00:00",
          "2023-08-20T00:00:00",
          "2023-08-21T00:00:00",
          "2023-08-22T00:00:00",
          "2023-08-23T00:00:00",
          "2023-08-24T00:00:00",
          "2023-08-25T00:00:00",
          "2023-08-26T00:00:00",
          "2023-08-27T00:00:00",
          "2023-08-28T00:00:00",
          "2023-08-29T00:00:00",
          "2023-08-30T00:00:00",
          "2023-08-31T00:00:00"
         ],
         "xaxis": "x",
         "y": [
          453,
          442,
          404,
          382,
          412,
          423,
          428,
          377,
          439,
          554,
          698,
          806,
          783,
          818,
          577,
          479,
          453,
          520,
          634,
          453,
          526,
          503,
          589,
          435,
          456,
          592,
          542,
          541,
          571,
          558,
          572
         ],
         "yaxis": "y"
        }
       ],
       "layout": {
        "legend": {
         "title": {
          "text": "country"
         },
         "tracegroupgap": 0
        },
        "template": {
         "data": {
          "bar": [
           {
            "error_x": {
             "color": "#2a3f5f"
            },
            "error_y": {
             "color": "#2a3f5f"
            },
            "marker": {
             "line": {
              "color": "#E5ECF6",
              "width": 0.5
             },
             "pattern": {
              "fillmode": "overlay",
              "size": 10,
              "solidity": 0.2
             }
            },
            "type": "bar"
           }
          ],
          "barpolar": [
           {
            "marker": {
             "line": {
              "color": "#E5ECF6",
              "width": 0.5
             },
             "pattern": {
              "fillmode": "overlay",
              "size": 10,
              "solidity": 0.2
             }
            },
            "type": "barpolar"
           }
          ],
          "carpet": [
           {
            "aaxis": {
             "endlinecolor": "#2a3f5f",
             "gridcolor": "white",
             "linecolor": "white",
             "minorgridcolor": "white",
             "startlinecolor": "#2a3f5f"
            },
            "baxis": {
             "endlinecolor": "#2a3f5f",
             "gridcolor": "white",
             "linecolor": "white",
             "minorgridcolor": "white",
             "startlinecolor": "#2a3f5f"
            },
            "type": "carpet"
           }
          ],
          "choropleth": [
           {
            "colorbar": {
             "outlinewidth": 0,
             "ticks": ""
            },
            "type": "choropleth"
           }
          ],
          "contour": [
           {
            "colorbar": {
             "outlinewidth": 0,
             "ticks": ""
            },
            "colorscale": [
             [
              0,
              "#0d0887"
             ],
             [
              0.1111111111111111,
              "#46039f"
             ],
             [
              0.2222222222222222,
              "#7201a8"
             ],
             [
              0.3333333333333333,
              "#9c179e"
             ],
             [
              0.4444444444444444,
              "#bd3786"
             ],
             [
              0.5555555555555556,
              "#d8576b"
             ],
             [
              0.6666666666666666,
              "#ed7953"
             ],
             [
              0.7777777777777778,
              "#fb9f3a"
             ],
             [
              0.8888888888888888,
              "#fdca26"
             ],
             [
              1,
              "#f0f921"
             ]
            ],
            "type": "contour"
           }
          ],
          "contourcarpet": [
           {
            "colorbar": {
             "outlinewidth": 0,
             "ticks": ""
            },
            "type": "contourcarpet"
           }
          ],
          "heatmap": [
           {
            "colorbar": {
             "outlinewidth": 0,
             "ticks": ""
            },
            "colorscale": [
             [
              0,
              "#0d0887"
             ],
             [
              0.1111111111111111,
              "#46039f"
             ],
             [
              0.2222222222222222,
              "#7201a8"
             ],
             [
              0.3333333333333333,
              "#9c179e"
             ],
             [
              0.4444444444444444,
              "#bd3786"
             ],
             [
              0.5555555555555556,
              "#d8576b"
             ],
             [
              0.6666666666666666,
              "#ed7953"
             ],
             [
              0.7777777777777778,
              "#fb9f3a"
             ],
             [
              0.8888888888888888,
              "#fdca26"
             ],
             [
              1,
              "#f0f921"
             ]
            ],
            "type": "heatmap"
           }
          ],
          "heatmapgl": [
           {
            "colorbar": {
             "outlinewidth": 0,
             "ticks": ""
            },
            "colorscale": [
             [
              0,
              "#0d0887"
             ],
             [
              0.1111111111111111,
              "#46039f"
             ],
             [
              0.2222222222222222,
              "#7201a8"
             ],
             [
              0.3333333333333333,
              "#9c179e"
             ],
             [
              0.4444444444444444,
              "#bd3786"
             ],
             [
              0.5555555555555556,
              "#d8576b"
             ],
             [
              0.6666666666666666,
              "#ed7953"
             ],
             [
              0.7777777777777778,
              "#fb9f3a"
             ],
             [
              0.8888888888888888,
              "#fdca26"
             ],
             [
              1,
              "#f0f921"
             ]
            ],
            "type": "heatmapgl"
           }
          ],
          "histogram": [
           {
            "marker": {
             "pattern": {
              "fillmode": "overlay",
              "size": 10,
              "solidity": 0.2
             }
            },
            "type": "histogram"
           }
          ],
          "histogram2d": [
           {
            "colorbar": {
             "outlinewidth": 0,
             "ticks": ""
            },
            "colorscale": [
             [
              0,
              "#0d0887"
             ],
             [
              0.1111111111111111,
              "#46039f"
             ],
             [
              0.2222222222222222,
              "#7201a8"
             ],
             [
              0.3333333333333333,
              "#9c179e"
             ],
             [
              0.4444444444444444,
              "#bd3786"
             ],
             [
              0.5555555555555556,
              "#d8576b"
             ],
             [
              0.6666666666666666,
              "#ed7953"
             ],
             [
              0.7777777777777778,
              "#fb9f3a"
             ],
             [
              0.8888888888888888,
              "#fdca26"
             ],
             [
              1,
              "#f0f921"
             ]
            ],
            "type": "histogram2d"
           }
          ],
          "histogram2dcontour": [
           {
            "colorbar": {
             "outlinewidth": 0,
             "ticks": ""
            },
            "colorscale": [
             [
              0,
              "#0d0887"
             ],
             [
              0.1111111111111111,
              "#46039f"
             ],
             [
              0.2222222222222222,
              "#7201a8"
             ],
             [
              0.3333333333333333,
              "#9c179e"
             ],
             [
              0.4444444444444444,
              "#bd3786"
             ],
             [
              0.5555555555555556,
              "#d8576b"
             ],
             [
              0.6666666666666666,
              "#ed7953"
             ],
             [
              0.7777777777777778,
              "#fb9f3a"
             ],
             [
              0.8888888888888888,
              "#fdca26"
             ],
             [
              1,
              "#f0f921"
             ]
            ],
            "type": "histogram2dcontour"
           }
          ],
          "mesh3d": [
           {
            "colorbar": {
             "outlinewidth": 0,
             "ticks": ""
            },
            "type": "mesh3d"
           }
          ],
          "parcoords": [
           {
            "line": {
             "colorbar": {
              "outlinewidth": 0,
              "ticks": ""
             }
            },
            "type": "parcoords"
           }
          ],
          "pie": [
           {
            "automargin": true,
            "type": "pie"
           }
          ],
          "scatter": [
           {
            "fillpattern": {
             "fillmode": "overlay",
             "size": 10,
             "solidity": 0.2
            },
            "type": "scatter"
           }
          ],
          "scatter3d": [
           {
            "line": {
             "colorbar": {
              "outlinewidth": 0,
              "ticks": ""
             }
            },
            "marker": {
             "colorbar": {
              "outlinewidth": 0,
              "ticks": ""
             }
            },
            "type": "scatter3d"
           }
          ],
          "scattercarpet": [
           {
            "marker": {
             "colorbar": {
              "outlinewidth": 0,
              "ticks": ""
             }
            },
            "type": "scattercarpet"
           }
          ],
          "scattergeo": [
           {
            "marker": {
             "colorbar": {
              "outlinewidth": 0,
              "ticks": ""
             }
            },
            "type": "scattergeo"
           }
          ],
          "scattergl": [
           {
            "marker": {
             "colorbar": {
              "outlinewidth": 0,
              "ticks": ""
             }
            },
            "type": "scattergl"
           }
          ],
          "scattermapbox": [
           {
            "marker": {
             "colorbar": {
              "outlinewidth": 0,
              "ticks": ""
             }
            },
            "type": "scattermapbox"
           }
          ],
          "scatterpolar": [
           {
            "marker": {
             "colorbar": {
              "outlinewidth": 0,
              "ticks": ""
             }
            },
            "type": "scatterpolar"
           }
          ],
          "scatterpolargl": [
           {
            "marker": {
             "colorbar": {
              "outlinewidth": 0,
              "ticks": ""
             }
            },
            "type": "scatterpolargl"
           }
          ],
          "scatterternary": [
           {
            "marker": {
             "colorbar": {
              "outlinewidth": 0,
              "ticks": ""
             }
            },
            "type": "scatterternary"
           }
          ],
          "surface": [
           {
            "colorbar": {
             "outlinewidth": 0,
             "ticks": ""
            },
            "colorscale": [
             [
              0,
              "#0d0887"
             ],
             [
              0.1111111111111111,
              "#46039f"
             ],
             [
              0.2222222222222222,
              "#7201a8"
             ],
             [
              0.3333333333333333,
              "#9c179e"
             ],
             [
              0.4444444444444444,
              "#bd3786"
             ],
             [
              0.5555555555555556,
              "#d8576b"
             ],
             [
              0.6666666666666666,
              "#ed7953"
             ],
             [
              0.7777777777777778,
              "#fb9f3a"
             ],
             [
              0.8888888888888888,
              "#fdca26"
             ],
             [
              1,
              "#f0f921"
             ]
            ],
            "type": "surface"
           }
          ],
          "table": [
           {
            "cells": {
             "fill": {
              "color": "#EBF0F8"
             },
             "line": {
              "color": "white"
             }
            },
            "header": {
             "fill": {
              "color": "#C8D4E3"
             },
             "line": {
              "color": "white"
             }
            },
            "type": "table"
           }
          ]
         },
         "layout": {
          "annotationdefaults": {
           "arrowcolor": "#2a3f5f",
           "arrowhead": 0,
           "arrowwidth": 1
          },
          "autotypenumbers": "strict",
          "coloraxis": {
           "colorbar": {
            "outlinewidth": 0,
            "ticks": ""
           }
          },
          "colorscale": {
           "diverging": [
            [
             0,
             "#8e0152"
            ],
            [
             0.1,
             "#c51b7d"
            ],
            [
             0.2,
             "#de77ae"
            ],
            [
             0.3,
             "#f1b6da"
            ],
            [
             0.4,
             "#fde0ef"
            ],
            [
             0.5,
             "#f7f7f7"
            ],
            [
             0.6,
             "#e6f5d0"
            ],
            [
             0.7,
             "#b8e186"
            ],
            [
             0.8,
             "#7fbc41"
            ],
            [
             0.9,
             "#4d9221"
            ],
            [
             1,
             "#276419"
            ]
           ],
           "sequential": [
            [
             0,
             "#0d0887"
            ],
            [
             0.1111111111111111,
             "#46039f"
            ],
            [
             0.2222222222222222,
             "#7201a8"
            ],
            [
             0.3333333333333333,
             "#9c179e"
            ],
            [
             0.4444444444444444,
             "#bd3786"
            ],
            [
             0.5555555555555556,
             "#d8576b"
            ],
            [
             0.6666666666666666,
             "#ed7953"
            ],
            [
             0.7777777777777778,
             "#fb9f3a"
            ],
            [
             0.8888888888888888,
             "#fdca26"
            ],
            [
             1,
             "#f0f921"
            ]
           ],
           "sequentialminus": [
            [
             0,
             "#0d0887"
            ],
            [
             0.1111111111111111,
             "#46039f"
            ],
            [
             0.2222222222222222,
             "#7201a8"
            ],
            [
             0.3333333333333333,
             "#9c179e"
            ],
            [
             0.4444444444444444,
             "#bd3786"
            ],
            [
             0.5555555555555556,
             "#d8576b"
            ],
            [
             0.6666666666666666,
             "#ed7953"
            ],
            [
             0.7777777777777778,
             "#fb9f3a"
            ],
            [
             0.8888888888888888,
             "#fdca26"
            ],
            [
             1,
             "#f0f921"
            ]
           ]
          },
          "colorway": [
           "#636efa",
           "#EF553B",
           "#00cc96",
           "#ab63fa",
           "#FFA15A",
           "#19d3f3",
           "#FF6692",
           "#B6E880",
           "#FF97FF",
           "#FECB52"
          ],
          "font": {
           "color": "#2a3f5f"
          },
          "geo": {
           "bgcolor": "white",
           "lakecolor": "white",
           "landcolor": "#E5ECF6",
           "showlakes": true,
           "showland": true,
           "subunitcolor": "white"
          },
          "hoverlabel": {
           "align": "left"
          },
          "hovermode": "closest",
          "mapbox": {
           "style": "light"
          },
          "paper_bgcolor": "white",
          "plot_bgcolor": "#E5ECF6",
          "polar": {
           "angularaxis": {
            "gridcolor": "white",
            "linecolor": "white",
            "ticks": ""
           },
           "bgcolor": "#E5ECF6",
           "radialaxis": {
            "gridcolor": "white",
            "linecolor": "white",
            "ticks": ""
           }
          },
          "scene": {
           "xaxis": {
            "backgroundcolor": "#E5ECF6",
            "gridcolor": "white",
            "gridwidth": 2,
            "linecolor": "white",
            "showbackground": true,
            "ticks": "",
            "zerolinecolor": "white"
           },
           "yaxis": {
            "backgroundcolor": "#E5ECF6",
            "gridcolor": "white",
            "gridwidth": 2,
            "linecolor": "white",
            "showbackground": true,
            "ticks": "",
            "zerolinecolor": "white"
           },
           "zaxis": {
            "backgroundcolor": "#E5ECF6",
            "gridcolor": "white",
            "gridwidth": 2,
            "linecolor": "white",
            "showbackground": true,
            "ticks": "",
            "zerolinecolor": "white"
           }
          },
          "shapedefaults": {
           "line": {
            "color": "#2a3f5f"
           }
          },
          "ternary": {
           "aaxis": {
            "gridcolor": "white",
            "linecolor": "white",
            "ticks": ""
           },
           "baxis": {
            "gridcolor": "white",
            "linecolor": "white",
            "ticks": ""
           },
           "bgcolor": "#E5ECF6",
           "caxis": {
            "gridcolor": "white",
            "linecolor": "white",
            "ticks": ""
           }
          },
          "title": {
           "x": 0.05
          },
          "xaxis": {
           "automargin": true,
           "gridcolor": "white",
           "linecolor": "white",
           "ticks": "",
           "title": {
            "standoff": 15
           },
           "zerolinecolor": "white",
           "zerolinewidth": 2
          },
          "yaxis": {
           "automargin": true,
           "gridcolor": "white",
           "linecolor": "white",
           "ticks": "",
           "title": {
            "standoff": 15
           },
           "zerolinecolor": "white",
           "zerolinewidth": 2
          }
         }
        },
        "title": {
         "text": "Dynamics of new registrations by country"
        },
        "xaxis": {
         "anchor": "y",
         "domain": [
          0,
          1
         ],
         "title": {
          "text": "date"
         }
        },
        "yaxis": {
         "anchor": "x",
         "domain": [
          0,
          1
         ],
         "title": {
          "text": "New registration count"
         }
        }
       }
      }
     },
     "metadata": {},
     "output_type": "display_data"
    }
   ],
   "source": [
    "\n",
    "def draw_graph_registration_dynamic_by_country(\n",
    "        df_first: pd.DataFrame\n",
    ") -> None:\n",
    "    fig = px.line(\n",
    "        df_first,\n",
    "        x = \"date\",\n",
    "        y = \"new_registration_count\",\n",
    "        color = \"country\",\n",
    "        markers = True,\n",
    "        symbol = \"country\",\n",
    "        title = \"Dynamics of new registrations by country\"\n",
    "    )\n",
    "    fig.update_xaxes(\n",
    "        title_text = \"date\"\n",
    "    )\n",
    "    fig.update_yaxes(\n",
    "        title_text = \"New registration count\"\n",
    "    )\n",
    "    fig.show()"
   ]
  },
  {
   "cell_type": "code",
   "execution_count": null,
   "metadata": {},
   "outputs": [],
   "source": []
  }
 ],
 "metadata": {
  "kernelspec": {
   "display_name": "env",
   "language": "python",
   "name": "python3"
  },
  "language_info": {
   "codemirror_mode": {
    "name": "ipython",
    "version": 3
   },
   "file_extension": ".py",
   "mimetype": "text/x-python",
   "name": "python",
   "nbconvert_exporter": "python",
   "pygments_lexer": "ipython3",
   "version": "3.11.6"
  }
 },
 "nbformat": 4,
 "nbformat_minor": 2
}
